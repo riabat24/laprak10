{
 "cells": [
  {
   "cell_type": "code",
   "execution_count": null,
   "id": "38312fc2",
   "metadata": {},
   "outputs": [],
   "source": [
    "#Soal 1\n",
    "\n",
    "def tuple_sama(a):\n",
    "    if type(a) == str:\n",
    "        a = a.split()\n",
    "        a = tuple(a)\n",
    "\n",
    "    for j in a:\n",
    "        if a[0] != j:\n",
    "            b = False\n",
    "        else:\n",
    "            b = True\n",
    "\n",
    "    return b\n",
    "\n",
    "a = input(\"tA : \")\n",
    "\n",
    "print(tuple_sama(a))\n"
   ]
  },
  {
   "cell_type": "code",
   "execution_count": null,
   "id": "a19f85cc",
   "metadata": {},
   "outputs": [],
   "source": [
    "#soal 2\n",
    "\n",
    "a = (\"Fransina Riyanty Batlayar\", \"71231024\", \"Klitren, DI Yogyakarta\")\n",
    "print(\"Data:    \", a)\n",
    "print()\n",
    "\n",
    "print(\"NIM      : \", a[1])\n",
    "print(\"NAMA     : \", a[0])\n",
    "print(\"ALAMAT   : \", a[2])\n",
    "print()\n",
    "\n",
    "nim = a[1]\n",
    "print(\"NIM: \",tuple(nim))\n",
    "print()\n",
    "\n",
    "nama = a[0].split()\n",
    "print(\"NAMA DEPAN: \", (tuple(nama[0][1:])))\n",
    "print()\n",
    "\n",
    "nama.reverse()\n",
    "print(\"NAMA TERBALIK: \", (tuple(nama)))"
   ]
  },
  {
   "cell_type": "code",
   "execution_count": null,
   "id": "5b8280f0",
   "metadata": {},
   "outputs": [],
   "source": [
    "#soal 3\n",
    "\n",
    "import re\n",
    "\n",
    "a = input(\"Enter a file name: \")\n",
    "with open(a, \"r\") as handle:\n",
    "    x = dict()\n",
    "\n",
    "    for j in handle:\n",
    "        y = re.search(r\"from .+ \\w+ \\w{3}  \\d (\\d{2}):\", j.lower())\n",
    "\n",
    "        if y != None:\n",
    "            b = y.group(1)\n",
    "            if b not in x:\n",
    "                x[b] = 1\n",
    "            else:\n",
    "                x[b] += 1\n",
    "\n",
    "    for l in sorted(x):\n",
    "        print(\"{:<3}{:<2}\" .format(l, x[l]))"
   ]
  }
 ],
 "metadata": {
  "kernelspec": {
   "display_name": "Python 3 (ipykernel)",
   "language": "python",
   "name": "python3"
  },
  "language_info": {
   "codemirror_mode": {
    "name": "ipython",
    "version": 3
   },
   "file_extension": ".py",
   "mimetype": "text/x-python",
   "name": "python",
   "nbconvert_exporter": "python",
   "pygments_lexer": "ipython3",
   "version": "3.11.5"
  }
 },
 "nbformat": 4,
 "nbformat_minor": 5
}
